{
 "cells": [
  {
   "cell_type": "markdown",
   "metadata": {},
   "source": [
    "# PDF reading and table extraction\n",
    "First we are going to use PyPDF2 to test pdf reading capabilities"
   ]
  },
  {
   "cell_type": "code",
   "execution_count": 74,
   "metadata": {},
   "outputs": [],
   "source": [
    "import os\n",
    "import PyPDF2\n",
    "\n",
    "DIRECTORY_PATH = '../pdfs/'\n",
    "\n",
    "FILE_LIST= os.listdir(DIRECTORY_PATH)\n",
    "\n",
    "data_array = []\n",
    "\n",
    "for file_name in FILE_LIST:\n",
    "    if file_name.endswith('.pdf'):\n",
    "        with open(DIRECTORY_PATH + file_name, 'rb') as pdf_file:\n",
    "            reader = PyPDF2.PdfReader(pdf_file)\n",
    "            number_of_pages = len(reader.pages)\n",
    "            for i in range(1, number_of_pages):\n",
    "                page = reader.pages[i] \n",
    "                page_content = page.extract_text()\n",
    "                data_array.append(page_content)\n",
    "\n",
    "\n",
    "\n",
    "            "
   ]
  },
  {
   "cell_type": "code",
   "execution_count": 111,
   "metadata": {},
   "outputs": [
    {
     "name": "stdout",
     "output_type": "stream",
     "text": [
      "Signal 1: DAD1 A, Sig=220,4 Ref=360,100\n",
      " \n",
      "Peak RetTime  Type   Width     Area      Area    Name\n",
      "  #   [min]          [min]   [mAU*s]       %\n",
      "----|-------|------|-------|----------|--------|---------------------\n",
      "   1   1.225 BV      0.0707   36.50349  29.3905 ?                                                 \n",
      "   2   1.392 VB      0.0612   25.83457  20.8005 ?                                                 \n",
      "   3   2.043 VB      0.0584   47.51008  38.2524 ?                                                 \n",
      "   4   2.755 BB      0.0664    6.46907   5.2085 ?                                                 \n",
      "   5   3.612 BB      0.1083    7.88442   6.3481 ?                                                 \n",
      " \n",
      "\n"
     ]
    }
   ],
   "source": [
    "START_MARKERS = [\"Signal 1:\", \"Signal 2:\", \"Signal 3:\"]\n",
    "END_MARKERS = [\"Totals :\"]\n",
    "\n",
    "extracted_text_list = []\n",
    "\n",
    "for text in data_array:\n",
    "    extracted_text = []\n",
    "\n",
    "    for start_marker in START_MARKERS:\n",
    "        start_index = text.find(start_marker) \n",
    "\n",
    "        if start_index != -1:\n",
    "            for end_marker in END_MARKERS:\n",
    "                end_index = text.find(end_marker, start_index)\n",
    "                if end_index != -1:\n",
    "                    extracted_text.append(text[start_index:end_index])\n",
    "\n",
    "    extracted_text_list.append(extracted_text)\n",
    "\n",
    "print (extracted_text_list[0][0])\n"
   ]
  },
  {
   "cell_type": "code",
   "execution_count": 121,
   "metadata": {},
   "outputs": [
    {
     "name": "stdout",
     "output_type": "stream",
     "text": [
      "['Signal 1: DAD1 A, Sig=220,4 Ref=360,100\\n \\nPeak RetTime  Type   Width     Area      Area    Name\\n  #   [min]          [min]   [mAU*s]       %\\n----|-------|------|-------|----------|--------|---------------------\\n   1   1.225 BV      0.0707   36.50349  29.3905 ?                                                 \\n   2   1.392 VB      0.0612   25.83457  20.8005 ?                                                 \\n   3   2.043 VB      0.0584   47.51008  38.2524 ?                                                 \\n   4   2.755 BB      0.0664    6.46907   5.2085 ?                                                 \\n   5   3.612 BB      0.1083    7.88442   6.3481 ?                                                 \\n \\n', 'Signal 2: DAD1 B, Sig=240,16 Ref=360,100\\n \\nPeak RetTime  Type   Width     Area      Area    Name\\n  #   [min]          [min]   [mAU*s]       %\\n----|-------|------|-------|----------|--------|---------------------\\n   1   2.043 VB      0.0585   46.14956  86.6304 ?                                                 \\n   2   2.940         0.0000    0.00000   0.0000 CCd8                                              \\n   3   3.576 BB      0.0806    7.12225  13.3696 ?                                                 \\n \\n']\n",
      "['Signal 1: DAD1 A, Sig=220,4 Ref=360,100\\n \\nPeak RetTime  Type   Width     Area      Area    Name\\n  #   [min]          [min]   [mAU*s]       %\\n----|-------|------|-------|----------|--------|---------------------\\n   1   1.225 BV      0.0707   36.50349  29.3905 ?                                                 \\n   2   1.392 VB      0.0612   25.83457  20.8005 ?                                                 \\n   3   2.043 VB      0.0584   47.51008  38.2524 ?                                                 \\n   4   2.755 BB      0.0664    6.46907   5.2085 ?                                                 \\n   5   3.612 BB      0.1083    7.88442   6.3481 ?                                                 \\n \\n', 'Signal 2: DAD1 B, Sig=240,16 Ref=360,100\\n \\nPeak RetTime  Type   Width     Area      Area    Name\\n  #   [min]          [min]   [mAU*s]       %\\n----|-------|------|-------|----------|--------|---------------------\\n   1   2.043 VB      0.0585   46.14956  86.6304 ?                                                 \\n   2   2.940         0.0000    0.00000   0.0000 CCd8                                              \\n   3   3.576 BB      0.0806    7.12225  13.3696 ?                                                 \\n \\n', 'Signal 3: DAD1 C, Sig=260,8 Ref=360,100\\n \\nPeak RetTime  Type   Width     Area      Area    Name\\n  #   [min]          [min]   [mAU*s]       %\\n----|-------|------|-------|----------|--------|---------------------\\n   1   2.043 BB      0.0576   31.92191 100.0000 ?                                                 \\n \\n']\n"
     ]
    }
   ],
   "source": [
    "def flatten_list(nested_list):\n",
    "    flat_list = []\n",
    "    \n",
    "    for item in nested_list:\n",
    "        flat_list += item\n",
    "        print(flat_list)\n",
    "\n",
    "    return flat_list\n",
    "\n",
    "tables = flatten_list(extracted_text_list)\n",
    "\n",
    "\n",
    "\n"
   ]
  },
  {
   "cell_type": "code",
   "execution_count": null,
   "metadata": {},
   "outputs": [],
   "source": []
  }
 ],
 "metadata": {
  "kernelspec": {
   "display_name": "venv",
   "language": "python",
   "name": "python3"
  },
  "language_info": {
   "codemirror_mode": {
    "name": "ipython",
    "version": 3
   },
   "file_extension": ".py",
   "mimetype": "text/x-python",
   "name": "python",
   "nbconvert_exporter": "python",
   "pygments_lexer": "ipython3",
   "version": "3.8.16"
  }
 },
 "nbformat": 4,
 "nbformat_minor": 2
}
