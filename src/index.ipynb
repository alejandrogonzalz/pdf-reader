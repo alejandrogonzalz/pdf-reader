{
 "cells": [
  {
   "cell_type": "markdown",
   "metadata": {},
   "source": [
    "# PDF reading and table extraction\n",
    "First we are going to use PyPDF2 to test pdf reading capabilities"
   ]
  },
  {
   "cell_type": "code",
   "execution_count": 4,
   "metadata": {},
   "outputs": [
    {
     "data": {
      "text/plain": [
       "[' =====================================================================\\n                         Area Percent Report                         \\n=====================================================================\\n \\nSorted By             :      Signal\\nMultiplier:                   :      1.0000\\nDilution:                     :      1.0000\\nUse Multiplier & Dilution Factor with ISTDs\\n \\n \\nSignal 1: DAD1 A, Sig=220,4 Ref=360,100\\n \\nPeak RetTime Type  Width     Area      Height     Area  \\n  #   [min]        [min]   [mAU*s]     [mAU]        %\\n----|-------|----|-------|----------|----------|--------|\\n   1   1.158 BB    0.0722   25.93306    5.38460   4.0595\\n   2   1.712 BB    0.0553  612.89801  173.02423  95.9405\\n \\nTotals :                   638.83107  178.40883\\n \\n \\n \\nSignal 2: DAD1 B, Sig=240,16 Ref=360,100\\n \\nPeak RetTime Type  Width     Area      Height     Area  \\n  #   [min]        [min]   [mAU*s]     [mAU]        %\\n----|-------|----|-------|----------|----------|--------|\\n   1   1.712 VB    0.0554  154.80322   43.59921 100.0000\\n \\nTotals :                   154.80322   43.59921\\n \\n \\n \\nSignal 3: DAD1 C, Sig=260,8 Ref=360,100\\n \\nPeak RetTime Type  Width     Area      Height     Area  \\n  #   [min]        [min]   [mAU*s]     [mAU]        %\\n----|-------|----|-------|----------|----------|--------|\\n   1   1.712 BB    0.0554   77.70082   21.90207 100.0000\\n \\nTotals :                    77.70082   21.90207\\n \\n \\n=====================================================================\\n                          *** End of Report ***Data File D:\\\\CHEM32\\\\1\\\\DATA\\\\GGM\\\\ACES_PRUEBA20_CURVAS 2023-10-19 12-39-39\\\\005-0501.D\\nSample Name: 5 ppm Mel\\nInstrument 1 10/19/2023 7:14:58 PM GGMCP Page 2 of 2']"
      ]
     },
     "execution_count": 4,
     "metadata": {},
     "output_type": "execute_result"
    }
   ],
   "source": [
    "import os\n",
    "import PyPDF2\n",
    "\n",
    "DIRECTORY_PATH = '../pdfs/'\n",
    "\n",
    "FILE_LIST= os.listdir(DIRECTORY_PATH)\n",
    "\n",
    "\n",
    "for file_name in FILE_LIST:\n",
    "    if file_name.endswith('.pdf'):\n",
    "        with open(DIRECTORY_PATH + file_name, 'rb') as pdf_file:\n",
    "            reader = PyPDF2.PdfReader(pdf_file)\n",
    "            data_array = [reader.pages[i].extract_text() for i in range(1, len(reader.pages))]\n",
    "\n"
   ]
  },
  {
   "cell_type": "code",
   "execution_count": 10,
   "metadata": {},
   "outputs": [],
   "source": [
    "START_MARKERS = [\"Signal 1:\", \"Signal 2:\"]\n",
    "END_MARKERS = [\"Totals :\"]\n",
    "\n",
    "extracted_text_list = []\n",
    "\n",
    "for text in data_array:\n",
    "    extracted_text = []\n",
    "\n",
    "    for start_marker in START_MARKERS:\n",
    "        start_index = text.find(start_marker) \n",
    "\n",
    "        if start_index != -1:\n",
    "            for end_marker in END_MARKERS:\n",
    "                end_index = text.find(end_marker, start_index)\n",
    "                if end_index != -1:\n",
    "                    extracted_text.append(text[start_index:end_index])\n",
    "\n",
    "    extracted_text_list.append(extracted_text)"
   ]
  },
  {
   "cell_type": "code",
   "execution_count": 15,
   "metadata": {},
   "outputs": [],
   "source": [
    "def flatten_list(nested_list):\n",
    "    flat_list = []\n",
    "    \n",
    "    for item in nested_list:\n",
    "        flat_list += item\n",
    "\n",
    "    return flat_list\n",
    "\n",
    "tables = flatten_list(extracted_text_list)\n"
   ]
  },
  {
   "cell_type": "code",
   "execution_count": 26,
   "metadata": {},
   "outputs": [
    {
     "name": "stdout",
     "output_type": "stream",
     "text": [
      "fist line [['1', '1.229', 'BV', '0.0730', '34.46456', '28.9812', '?'], ['2', '1.393', 'VB', '0.0633', '23.80703', '20.0193', '?'], ['3', '1.946', 'BV', '0.0670', '7.82283', '6.5782', '?'], ['4', '2.043', 'VV', '0.0598', '52.82616', '44.4214', '?']]\n",
      "fist line [['1', '2.043', 'VB', '0.0589', '49.46514', '100.0000', '?'], ['2', '2.940', '0.0000', '0.00000', '0.0000', 'CCd8']]\n",
      "fist line [['1', '1.225', 'BV', '0.0707', '36.50349', '29.3905', '?'], ['2', '1.392', 'VB', '0.0612', '25.83457', '20.8005', '?'], ['3', '2.043', 'VB', '0.0584', '47.51008', '38.2524', '?'], ['4', '2.755', 'BB', '0.0664', '6.46907', '5.2085', '?'], ['5', '3.612', 'BB', '0.1083', '7.88442', '6.3481', '?']]\n",
      "fist line [['1', '2.043', 'VB', '0.0585', '46.14956', '86.6304', '?'], ['2', '2.940', '0.0000', '0.00000', '0.0000', 'CCd8'], ['3', '3.576', 'BB', '0.0806', '7.12225', '13.3696', '?']]\n"
     ]
    }
   ],
   "source": [
    "import pandas as pd\n",
    "\n",
    "count = 0\n",
    "dataframes = {}\n",
    "\n",
    "\n",
    "for table in tables:\n",
    "    count += 1\n",
    "    lines = table.strip().split('\\n')\n",
    "    header = lines[2].split()\n",
    "    data = [line.split() for line in lines[5:]]\n",
    "\n",
    "    dataframes[count] = pd.DataFrame(data, columns= header)\n",
    "   \n",
    "    "
   ]
  },
  {
   "cell_type": "code",
   "execution_count": 10,
   "metadata": {},
   "outputs": [
    {
     "name": "stdout",
     "output_type": "stream",
     "text": [
      "1.5 1.5\n"
     ]
    }
   ],
   "source": [
    "number_1 = 1.535\n",
    "number_2 = 1.4903\n",
    "\n",
    "num_1 = round(number_1, 1)\n",
    "\n",
    "num_2 = round(number_2, 1)\n",
    "print(num_1,num_2)"
   ]
  }
 ],
 "metadata": {
  "kernelspec": {
   "display_name": "venv",
   "language": "python",
   "name": "python3"
  },
  "language_info": {
   "codemirror_mode": {
    "name": "ipython",
    "version": 3
   },
   "file_extension": ".py",
   "mimetype": "text/x-python",
   "name": "python",
   "nbconvert_exporter": "python",
   "pygments_lexer": "ipython3",
   "version": "3.9.12"
  }
 },
 "nbformat": 4,
 "nbformat_minor": 2
}
