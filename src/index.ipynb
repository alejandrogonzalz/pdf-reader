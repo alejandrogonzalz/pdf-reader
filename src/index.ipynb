{
 "cells": [
  {
   "cell_type": "markdown",
   "metadata": {},
   "source": [
    "# PDF reading and table extraction\n",
    "First we are going to use PyPDF2 to test pdf reading capabilities"
   ]
  },
  {
   "cell_type": "code",
   "execution_count": 45,
   "metadata": {},
   "outputs": [],
   "source": [
    "import os\n",
    "import PyPDF2\n",
    "\n",
    "DIRECTORY_PATH = '../pdfs/'\n",
    "\n",
    "FILE_LIST= os.listdir(DIRECTORY_PATH)\n",
    "\n",
    "data_array = []\n",
    "\n",
    "for file_name in FILE_LIST:\n",
    "    if file_name.endswith('.pdf'):\n",
    "        with open(DIRECTORY_PATH + file_name, 'rb') as pdf_file:\n",
    "            reader = PyPDF2.PdfReader(pdf_file)\n",
    "            number_of_pages = len(reader.pages)\n",
    "            for i in range(1, number_of_pages):\n",
    "                page = reader.pages[i] \n",
    "                page_content = page.extract_text()\n",
    "                data_array.append(page_content)         "
   ]
  },
  {
   "cell_type": "code",
   "execution_count": 46,
   "metadata": {},
   "outputs": [],
   "source": [
    "START_MARKERS = [\"Signal 1:\", \"Signal 2:\", \"Signal 3:\"]\n",
    "END_MARKERS = [\"Totals :\"]\n",
    "\n",
    "extracted_text_list = []\n",
    "\n",
    "for text in data_array:\n",
    "    extracted_text = []\n",
    "\n",
    "    for start_marker in START_MARKERS:\n",
    "        start_index = text.find(start_marker) \n",
    "\n",
    "        if start_index != -1:\n",
    "            for end_marker in END_MARKERS:\n",
    "                end_index = text.find(end_marker, start_index)\n",
    "                if end_index != -1:\n",
    "                    extracted_text.append(text[start_index:end_index])\n",
    "\n",
    "    extracted_text_list.append(extracted_text)"
   ]
  },
  {
   "cell_type": "code",
   "execution_count": 47,
   "metadata": {},
   "outputs": [],
   "source": [
    "def flatten_list(nested_list):\n",
    "    flat_list = []\n",
    "    \n",
    "    for item in nested_list:\n",
    "        flat_list += item\n",
    "\n",
    "    return flat_list\n",
    "\n",
    "tables = flatten_list(extracted_text_list)"
   ]
  },
  {
   "cell_type": "code",
   "execution_count": 51,
   "metadata": {},
   "outputs": [
    {
     "name": "stdout",
     "output_type": "stream",
     "text": [
      "{1:   Peak RetTime Type   Width      Area     Area Name\n",
      "0    1   1.229   BV  0.0730  34.46456  28.9812    ?\n",
      "1    2   1.393   VB  0.0633  23.80703  20.0193    ?\n",
      "2    3   1.946   BV  0.0670   7.82283   6.5782    ?\n",
      "3    4   2.043   VV  0.0598  52.82616  44.4214    ?, 2:   Peak RetTime    Type    Width      Area      Area  Name\n",
      "0    1   2.043      VB   0.0589  49.46514  100.0000     ?\n",
      "1    2   2.940  0.0000  0.00000    0.0000      CCd8  None, 3:   Peak RetTime Type   Width      Area      Area Name\n",
      "0    1   2.043   BB  0.0580  34.08844  100.0000    ?, 4:   Peak RetTime Type   Width      Area     Area Name\n",
      "0    1   1.225   BV  0.0707  36.50349  29.3905    ?\n",
      "1    2   1.392   VB  0.0612  25.83457  20.8005    ?\n",
      "2    3   2.043   VB  0.0584  47.51008  38.2524    ?\n",
      "3    4   2.755   BB  0.0664   6.46907   5.2085    ?\n",
      "4    5   3.612   BB  0.1083   7.88442   6.3481    ?, 5:   Peak RetTime    Type    Width      Area     Area  Name\n",
      "0    1   2.043      VB   0.0585  46.14956  86.6304     ?\n",
      "1    2   2.940  0.0000  0.00000    0.0000     CCd8  None\n",
      "2    3   3.576      BB   0.0806   7.12225  13.3696     ?, 6:   Peak RetTime Type   Width      Area      Area Name\n",
      "0    1   2.043   BB  0.0576  31.92191  100.0000    ?}\n"
     ]
    }
   ],
   "source": [
    "import pandas as pd\n",
    "\n",
    "count = 0\n",
    "dataframes = {}\n",
    "\n",
    "for table in tables:\n",
    "    count += 1\n",
    "    lines = table.strip().split('\\n')\n",
    "    header = lines[2].split()\n",
    "    data = [line.split() for line in lines[5:]]\n",
    "    dataframes[count] = pd.DataFrame(data, columns= header)\n",
    "\n",
    "print (dataframes)\n",
    "\n",
    "    \n",
    "    "
   ]
  }
 ],
 "metadata": {
  "kernelspec": {
   "display_name": "venv",
   "language": "python",
   "name": "python3"
  },
  "language_info": {
   "codemirror_mode": {
    "name": "ipython",
    "version": 3
   },
   "file_extension": ".py",
   "mimetype": "text/x-python",
   "name": "python",
   "nbconvert_exporter": "python",
   "pygments_lexer": "ipython3",
   "version": "3.9.12"
  }
 },
 "nbformat": 4,
 "nbformat_minor": 2
}
