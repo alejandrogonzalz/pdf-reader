{
 "cells": [
  {
   "cell_type": "markdown",
   "metadata": {},
   "source": [
    "# To create dynamic directories based on PDF name\n",
    "When running these series of commands you will be able to filter the pdfs based on their name"
   ]
  },
  {
   "cell_type": "code",
   "execution_count": 40,
   "metadata": {},
   "outputs": [
    {
     "ename": "IndexError",
     "evalue": "no such group",
     "output_type": "error",
     "traceback": [
      "\u001b[1;31m---------------------------------------------------------------------------\u001b[0m",
      "\u001b[1;31mIndexError\u001b[0m                                Traceback (most recent call last)",
      "\u001b[1;32mc:\\Projects\\pdf-reader\\src\\create.ipynb Cell 2\u001b[0m line \u001b[0;36m<cell line: 9>\u001b[1;34m()\u001b[0m\n\u001b[0;32m     <a href='vscode-notebook-cell:/c%3A/Projects/pdf-reader/src/create.ipynb#W3sZmlsZQ%3D%3D?line=9'>10</a>\u001b[0m match \u001b[39m=\u001b[39m re\u001b[39m.\u001b[39msearch(\u001b[39mr\u001b[39m\u001b[39m'\u001b[39m\u001b[39m(.+ \u001b[39m\u001b[39m\\\u001b[39m\u001b[39md\u001b[39m\u001b[39m{4}\u001b[39;00m\u001b[39m-\u001b[39m\u001b[39m\\\u001b[39m\u001b[39md\u001b[39m\u001b[39m{2}\u001b[39;00m\u001b[39m-\u001b[39m\u001b[39m\\\u001b[39m\u001b[39md\u001b[39m\u001b[39m{2}\u001b[39;00m\u001b[39m|\u001b[39m\u001b[39m\\\u001b[39m\u001b[39md\u001b[39m\u001b[39m{2}\u001b[39;00m\u001b[39m-\u001b[39m\u001b[39m\\\u001b[39m\u001b[39md\u001b[39m\u001b[39m{2}\u001b[39;00m\u001b[39m-\u001b[39m\u001b[39m\\\u001b[39m\u001b[39md\u001b[39m\u001b[39m{2}\u001b[39;00m\u001b[39m) (.+?)\u001b[39m\u001b[39m\\\u001b[39m\u001b[39m.pdf\u001b[39m\u001b[39m'\u001b[39m, file_name)\n\u001b[0;32m     <a href='vscode-notebook-cell:/c%3A/Projects/pdf-reader/src/create.ipynb#W3sZmlsZQ%3D%3D?line=10'>11</a>\u001b[0m \u001b[39mif\u001b[39;00m match:\n\u001b[1;32m---> <a href='vscode-notebook-cell:/c%3A/Projects/pdf-reader/src/create.ipynb#W3sZmlsZQ%3D%3D?line=11'>12</a>\u001b[0m     \u001b[39mprint\u001b[39m(match\u001b[39m.\u001b[39;49mgroup(\u001b[39m3\u001b[39;49m))\n",
      "\u001b[1;31mIndexError\u001b[0m: no such group"
     ]
    }
   ],
   "source": [
    "import os\n",
    "import re\n",
    "import shutil\n",
    "\n",
    "DIRECTORY_PATH = '../pdfs/'\n",
    "\n",
    "pdf_files=[file for file in os.listdir(DIRECTORY_PATH) if file.endswith('.pdf')]\n",
    "\n",
    "for file_name in pdf_files:\n",
    "    match = re.search(r'(.+ \\d{4}-\\d{2}-\\d{2}|\\d{2}-\\d{2}-\\d{2}) (.+?)\\.pdf', file_name)\n",
    "    if match:\n",
    "        print(match.group(2))\n",
    "    "
   ]
  }
 ],
 "metadata": {
  "kernelspec": {
   "display_name": "base",
   "language": "python",
   "name": "python3"
  },
  "language_info": {
   "name": "python",
   "version": "3.9.12"
  }
 },
 "nbformat": 4,
 "nbformat_minor": 2
}
