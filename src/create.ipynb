{
 "cells": [
  {
   "cell_type": "markdown",
   "metadata": {},
   "source": [
    "# To create dynamic directories based on PDF name\n",
    "When running these series of commands you will be able to filter the pdfs based on their name"
   ]
  },
  {
   "cell_type": "code",
   "execution_count": 101,
   "metadata": {},
   "outputs": [],
   "source": [
    "# To extract the tables from the PDFS in the iteration, pass down the START_MARKERS and END_MARKERS as props\n",
    "import pandas as pd\n",
    "\n",
    "def ExtractTable(data_array, START_MARKERS, END_MARKERS):\n",
    "    for text in data_array:\n",
    "        extracted_text = []\n",
    "\n",
    "        for start_marker in START_MARKERS:\n",
    "            start_index = text.find(start_marker) \n",
    "\n",
    "            if start_index != -1:\n",
    "                for end_marker in END_MARKERS:\n",
    "                    end_index = text.find(end_marker, start_index)\n",
    "                    if end_index != -1:\n",
    "                        extracted_text.append(text[start_index:end_index])\n",
    "\n",
    "    return extracted_text\n",
    "\n",
    "def FlattenList(nested_list):\n",
    "    flat_list = []\n",
    "    \n",
    "    for item in nested_list:\n",
    "        flat_list += item\n",
    "\n",
    "    return flat_list\n",
    "\n",
    "def CreateDataFrame(str_table):\n",
    "    count = 0\n",
    "    for line in str_table:\n",
    "        count += 1\n",
    "        lines = line.strip().split('\\n')\n",
    "        header = lines[2].split()\n",
    "        data = [line.split() for line in lines[5:]]\n",
    "        \n",
    "    return pd.DataFrame(data, columns = header)\n"
   ]
  },
  {
   "cell_type": "code",
   "execution_count": 109,
   "metadata": {},
   "outputs": [
    {
     "name": "stdout",
     "output_type": "stream",
     "text": [
      "   Peak RetTime Type   Width        Area      Height     Area     Sample\n",
      "0     3   2.724   BB  0.0676     8.95197     2.02566  15.9640   HM0.1ppm\n",
      "1     3   2.730   BB  0.0701     8.97839     2.01094  16.4159   HM0.1ppm\n",
      "2     3   1.534   VB  0.0525    52.03939    14.99019  56.5095   HM0.5ppm\n",
      "3     3   1.535   VB  0.0548    53.55626    15.31030  57.2943   HM0.5ppm\n",
      "4     3   1.494   VB  0.1024   797.48700   110.29391  93.5271    HM10ppm\n",
      "5     3   1.504   VB  0.0937   888.22400   144.42703  93.9590    HM10ppm\n",
      "6     3   1.535   VB  0.0553   102.35654    28.93162  59.7338     HM1ppm\n",
      "7     3   1.536   VB  0.0555   105.41412    29.61987  60.3783     HM1ppm\n",
      "8     2   1.501   VV  0.0945  1385.79517   217.03145  96.6831    HM20ppm\n",
      "9     3   1.495   VV  0.1015  1363.35608   195.20973  95.3379    HM20ppm\n",
      "10    3   1.732   VV  0.0670    40.36325     8.88480   0.8956    HM50ppm\n",
      "11    3   1.496   VV  0.1168  4019.03174   566.19232  96.4909    HM50ppm\n",
      "12    3   1.535   VV  0.0552   604.27716   170.97237  85.6345     HM5ppm\n",
      "13    3   1.537   VV  0.0532   613.25250   173.59921  85.4937     HM5ppm\n",
      "14    2   1.714   BB  0.0540    11.74260     3.42268  21.8948  Mel0.1ppm\n",
      "15    2   1.711   BB  0.0538    11.50528     3.37192  21.4374  Mel0.1ppm\n",
      "16    2   1.716   BB  0.0547    57.83498    16.56122  62.5797  Mel0.5ppm\n",
      "17    2   1.711   BB  0.0546    57.16442    16.42707  62.7451  Mel0.5ppm\n",
      "18    2   1.723   BV  0.0527   458.98810   131.45726  87.3858   Mel10ppm\n",
      "19    2   1.726   BV  0.0563   369.36365    97.23553  84.0306   Mel10ppm\n",
      "20    2   1.716   BB  0.0548   125.53425    35.90519  69.7703    Mel1ppm\n",
      "21    2   1.712   BB  0.0539   124.05222    36.26285  70.1483    Mel1ppm\n",
      "22    2   1.725   BV  0.0562   696.89825   192.74060  90.8099   Mel20ppm\n",
      "23    2   1.728   BV  0.0594   697.19110   179.04810  90.7978   Mel20ppm\n",
      "24    2   1.721   VB  0.0536  3726.78516  1097.88928  98.9555   Mel50ppm\n",
      "25    2   1.723   BV  0.0541  3021.89087   878.95703  98.2835   Mel50ppm\n",
      "26    2   1.714   BB  0.0552   615.45654   174.37497  95.8793    Mel5ppm\n",
      "27    2   1.712   BB  0.0553   612.89801   173.02423  95.9405    Mel5ppm\n"
     ]
    }
   ],
   "source": [
    "import os\n",
    "import re\n",
    "import PyPDF2\n",
    "\n",
    "DIRECTORY_PATH = '../pdfs/'\n",
    "\n",
    "pdf_files=[file for file in os.listdir(DIRECTORY_PATH) if file.endswith('.pdf')]\n",
    "\n",
    "dataframe = pd.DataFrame(columns=['Peak', 'RetTime', 'Type', 'Width', 'Area', 'Height', 'Area', 'Sample'])\n",
    "\n",
    "for file_name in pdf_files:\n",
    "    match = re.search(r'(.+ \\d{4}-\\d{2}-\\d{2}|\\d{2}-\\d{2}-\\d{2}) (.+?)\\.pdf', file_name)\n",
    "    if match:\n",
    "        common_part = match.group(2)\n",
    "        if 'Mel' in common_part or 'HM' in common_part:\n",
    "            with open(DIRECTORY_PATH + file_name, 'rb') as pdf_file:\n",
    "                pdf = PyPDF2.PdfReader(pdf_file)\n",
    "                pdf_pages = [pdf.pages[i].extract_text() for i in range(1, len(pdf.pages))]\n",
    "                str_table = ExtractTable(pdf_pages, ['Signal 1:'], ['Totals :'])\n",
    "                df = CreateDataFrame(str_table)\n",
    "\n",
    "                row_number = 1 if 'Mel' in common_part and len(df) >= 2 else (2 if len(df) > 2 else 1)\n",
    "                row_to_add = df.iloc[row_number, :].copy()\n",
    "                \n",
    "                common_part = common_part.replace(' X2', '').replace(' ', '')\n",
    "                row_to_add['Sample'] = common_part\n",
    "\n",
    "                dataframe = pd.concat([dataframe, row_to_add.to_frame().T], ignore_index=True)\n",
    "\n",
    "\n",
    "print(dataframe)\n",
    "\n",
    "\n"
   ]
  }
 ],
 "metadata": {
  "kernelspec": {
   "display_name": "base",
   "language": "python",
   "name": "python3"
  },
  "language_info": {
   "codemirror_mode": {
    "name": "ipython",
    "version": 3
   },
   "file_extension": ".py",
   "mimetype": "text/x-python",
   "name": "python",
   "nbconvert_exporter": "python",
   "pygments_lexer": "ipython3",
   "version": "3.9.12"
  }
 },
 "nbformat": 4,
 "nbformat_minor": 2
}
