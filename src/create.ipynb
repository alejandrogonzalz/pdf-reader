{
 "cells": [
  {
   "cell_type": "markdown",
   "metadata": {},
   "source": [
    "# To create dynamic directories based on PDF name\n",
    "When running these series of commands you will be able to filter the pdfs based on their name"
   ]
  },
  {
   "cell_type": "code",
   "execution_count": 41,
   "metadata": {},
   "outputs": [
    {
     "name": "stdout",
     "output_type": "stream",
     "text": [
      "Blanco 1\n",
      "Blanco 1x2\n",
      "Blanco 2\n",
      "Blanco 3 X2\n",
      "Blanco 3\n",
      "Blanco 4 X2\n",
      "Blanco 4\n",
      "Blanco X2\n",
      "C 0.1 ppm\n",
      "C 0.1ppm X2\n",
      "C 0.5ppm X2\n",
      "C 0.5ppm\n",
      "C 100pm X2\n",
      "C 100pm\n",
      "C 10ppm X2\n",
      "C 10ppm\n",
      "C 1ppm X2\n",
      "C 1ppm\n",
      "C 25ppm X2\n",
      "C 25ppm\n",
      "C 50ppm X2\n",
      "C 50ppm\n",
      "CCD8 0.1ppm\n",
      "CCD8 0.5ppm\n",
      "CCD8 10ppm\n",
      "CCD8 1ppm\n",
      "CCD8 25ppm\n",
      "CCD8 50ppm\n",
      "CCD8 5ppm\n",
      "HM 0.1 ppm X2\n",
      "HM 0.1ppm\n",
      "HM 0.5ppm X2\n",
      "HM 0.5ppm\n",
      "HM 10ppm X2\n",
      "HM 10ppm\n",
      "HM 1ppm X2\n",
      "HM 1ppm\n",
      "HM 20 ppm\n",
      "HM 20ppm X2\n",
      "HM 50 ppm\n",
      "HM 50ppm X2\n",
      "HM 5ppm X2\n",
      "HM 5ppm\n",
      "Mel 0.1ppm X2\n",
      "Mel 0.1ppm\n",
      "Mel 0.5ppm X2\n",
      "Mel 0.5ppm\n",
      "Mel 10ppm X2\n",
      "Mel 10ppm\n",
      "Mel 1ppm X2\n",
      "Mel 1ppm\n",
      "Mel 20ppm X2\n",
      "Mel 20ppm\n",
      "Mel 50ppm X2\n",
      "Mel 50ppm\n",
      "Mel 5ppm X2\n",
      "Mel 5ppm\n"
     ]
    }
   ],
   "source": [
    "import os\n",
    "import re\n",
    "import shutil\n",
    "\n",
    "DIRECTORY_PATH = '../pdfs/'\n",
    "\n",
    "pdf_files=[file for file in os.listdir(DIRECTORY_PATH) if file.endswith('.pdf')]\n",
    "\n",
    "for file_name in pdf_files:\n",
    "    match = re.search(r'(.+ \\d{4}-\\d{2}-\\d{2}|\\d{2}-\\d{2}-\\d{2}) (.+?)\\.pdf', file_name)\n",
    "    if match:\n",
    "        print(match.group(2))\n",
    "        common_part = match.group(2)\n",
    "        \n",
    "    "
   ]
  }
 ],
 "metadata": {
  "kernelspec": {
   "display_name": "base",
   "language": "python",
   "name": "python3"
  },
  "language_info": {
   "name": "python",
   "version": "3.9.12"
  }
 },
 "nbformat": 4,
 "nbformat_minor": 2
}
